{
 "cells": [
  {
   "cell_type": "code",
   "execution_count": 97,
   "metadata": {},
   "outputs": [],
   "source": [
    "import pandas as pd, numpy as np\n",
    "from scipy import stats\n",
    "%matplotlib inline\n",
    "import matplotlib.pyplot as plt\n",
    "import seaborn as sns"
   ]
  },
  {
   "cell_type": "markdown",
   "metadata": {},
   "source": [
    "# Objective\n",
    "We have an A/B test data from a mobile game <a href=\"https://www.facebook.com/cookiecatsgame\">Cookie Cats</a>, where we are going to analyse players' retention with different treatment of prompt in-app purchases __gates__. As shown below, the __gate__ will show up as players progresses through the levels of the game.\n",
    "<p><img src=\"https://s3.amazonaws.com/assets.datacamp.com/production/project_184/img/cc_gates.png\" alt=\"\"></p>\n",
    "In this experiment, the developer wants to know whether placing the gate at level 40 will boost more players' retention compared to the gate at level 30. Full description and preliminary A/B test analysis can be found on <a href=\"https://www.datacamp.com/projects/184\">Datacamp project page</a>.\n",
    "\n",
    "However, I am going to explore several other options of assessing A/B test results besides the method of bootstrap sampling that is explained on the Datacamp page.\n",
    "\n",
    "The result, however, shows that putting the gate at level 40 is ineffective and the retention is lower than the group where the gate shows up at level 30. We will confirm this through other ways that we are going to perform."
   ]
  },
  {
   "cell_type": "markdown",
   "metadata": {},
   "source": [
    "## 1. The data\n",
    "The players are randomly assigned into two groups: `gate_30` and `gate_40` under the column `version` on the dataset. The total players in this dataset is 90,189 with no duplicate `userid`. Also, we have other fields such as:\n",
    "<ul>\n",
    "<li><code>sum_gamerounds</code> (the number of game rounds played by the player during the first 14 days after install),\n",
    "<li><code>retention_1</code> - did the player come back and play <strong>1 day</strong> after installing?</li>\n",
    "<li><code>retention_7</code> - did the player come back and play <strong>7 days</strong> after installing?</li>\n",
    "</ul>\n",
    "\n",
    "A sneak peek of the data gives us below depiction,"
   ]
  },
  {
   "cell_type": "code",
   "execution_count": 2,
   "metadata": {},
   "outputs": [
    {
     "data": {
      "text/html": [
       "<div>\n",
       "<style scoped>\n",
       "    .dataframe tbody tr th:only-of-type {\n",
       "        vertical-align: middle;\n",
       "    }\n",
       "\n",
       "    .dataframe tbody tr th {\n",
       "        vertical-align: top;\n",
       "    }\n",
       "\n",
       "    .dataframe thead th {\n",
       "        text-align: right;\n",
       "    }\n",
       "</style>\n",
       "<table border=\"1\" class=\"dataframe\">\n",
       "  <thead>\n",
       "    <tr style=\"text-align: right;\">\n",
       "      <th></th>\n",
       "      <th>userid</th>\n",
       "      <th>version</th>\n",
       "      <th>sum_gamerounds</th>\n",
       "      <th>retention_1</th>\n",
       "      <th>retention_7</th>\n",
       "    </tr>\n",
       "  </thead>\n",
       "  <tbody>\n",
       "    <tr>\n",
       "      <th>38670</th>\n",
       "      <td>4283520</td>\n",
       "      <td>gate_40</td>\n",
       "      <td>112</td>\n",
       "      <td>True</td>\n",
       "      <td>True</td>\n",
       "    </tr>\n",
       "    <tr>\n",
       "      <th>2502</th>\n",
       "      <td>275887</td>\n",
       "      <td>gate_30</td>\n",
       "      <td>2</td>\n",
       "      <td>False</td>\n",
       "      <td>False</td>\n",
       "    </tr>\n",
       "    <tr>\n",
       "      <th>72539</th>\n",
       "      <td>8037409</td>\n",
       "      <td>gate_40</td>\n",
       "      <td>3</td>\n",
       "      <td>False</td>\n",
       "      <td>False</td>\n",
       "    </tr>\n",
       "    <tr>\n",
       "      <th>7912</th>\n",
       "      <td>871500</td>\n",
       "      <td>gate_30</td>\n",
       "      <td>2961</td>\n",
       "      <td>True</td>\n",
       "      <td>True</td>\n",
       "    </tr>\n",
       "    <tr>\n",
       "      <th>87165</th>\n",
       "      <td>9656426</td>\n",
       "      <td>gate_40</td>\n",
       "      <td>0</td>\n",
       "      <td>False</td>\n",
       "      <td>False</td>\n",
       "    </tr>\n",
       "  </tbody>\n",
       "</table>\n",
       "</div>"
      ],
      "text/plain": [
       "        userid  version  sum_gamerounds  retention_1  retention_7\n",
       "38670  4283520  gate_40             112         True         True\n",
       "2502    275887  gate_30               2        False        False\n",
       "72539  8037409  gate_40               3        False        False\n",
       "7912    871500  gate_30            2961         True         True\n",
       "87165  9656426  gate_40               0        False        False"
      ]
     },
     "execution_count": 2,
     "metadata": {},
     "output_type": "execute_result"
    }
   ],
   "source": [
    "df = pd.read_csv(\"datasets/cookie_cats.csv\")\n",
    "df.sample(5)"
   ]
  },
  {
   "cell_type": "markdown",
   "metadata": {},
   "source": [
    "We are more interested in using `retention_7` than `retention_1` column since it is very unlikely to have player hits either level 30 or level 40 after only 1 day installing the game.\n",
    "\n",
    "However, one important thing to ensure first whether the size of the A/B groups is roughly proportional."
   ]
  },
  {
   "cell_type": "code",
   "execution_count": 3,
   "metadata": {},
   "outputs": [
    {
     "data": {
      "text/plain": [
       "version\n",
       "gate_30    44700\n",
       "gate_40    45489\n",
       "dtype: int64"
      ]
     },
     "execution_count": 3,
     "metadata": {},
     "output_type": "execute_result"
    }
   ],
   "source": [
    "df.groupby(['version']).size()"
   ]
  },
  {
   "cell_type": "markdown",
   "metadata": {},
   "source": [
    "And to see whether the difference below is significant?"
   ]
  },
  {
   "cell_type": "code",
   "execution_count": 4,
   "metadata": {},
   "outputs": [
    {
     "data": {
      "text/html": [
       "<div>\n",
       "<style scoped>\n",
       "    .dataframe tbody tr th:only-of-type {\n",
       "        vertical-align: middle;\n",
       "    }\n",
       "\n",
       "    .dataframe tbody tr th {\n",
       "        vertical-align: top;\n",
       "    }\n",
       "\n",
       "    .dataframe thead th {\n",
       "        text-align: right;\n",
       "    }\n",
       "</style>\n",
       "<table border=\"1\" class=\"dataframe\">\n",
       "  <thead>\n",
       "    <tr style=\"text-align: right;\">\n",
       "      <th></th>\n",
       "      <th>version</th>\n",
       "      <th>retention_7</th>\n",
       "    </tr>\n",
       "  </thead>\n",
       "  <tbody>\n",
       "    <tr>\n",
       "      <th>0</th>\n",
       "      <td>gate_30</td>\n",
       "      <td>0.190201</td>\n",
       "    </tr>\n",
       "    <tr>\n",
       "      <th>1</th>\n",
       "      <td>gate_40</td>\n",
       "      <td>0.182000</td>\n",
       "    </tr>\n",
       "  </tbody>\n",
       "</table>\n",
       "</div>"
      ],
      "text/plain": [
       "   version  retention_7\n",
       "0  gate_30     0.190201\n",
       "1  gate_40     0.182000"
      ]
     },
     "execution_count": 4,
     "metadata": {},
     "output_type": "execute_result"
    }
   ],
   "source": [
    "df.groupby(['version'], as_index=False)['retention_7'].mean()"
   ]
  },
  {
   "cell_type": "markdown",
   "metadata": {},
   "source": [
    "### a. Is the data already sufficient enough?\n",
    "Before conducting an A/B test it is imperative to determine the minimum sample size in order to ensure minimum detectable effect. Having inadequate samples will likely give uncertain results and we might not be able to detect changes where it is actually there. \n",
    "\n",
    "We want to minimize this probability of not admitting a change while there is actually a change, or in other words also called as __false negative__ or __Type-II error__.\n",
    "\n",
    "However, it is more common to define the converse of it, i.e. __true positive__ or __power__ of the statistical test. We want the probability of accepting the positive change while actually there is indeed a positive change is as high as possible. As we will see, higher sample size will lead to an increase in power.\n",
    "\n",
    "Referring to <a href=\"https://books.google.co.id/books/about/Sample_Size_Calculations_in_Clinical_Res.html?id=7_0wDwAAQBAJ&printsec=frontcover&source=kp_read_button&redir_esc=y#v=onepage&q&f=false\">this book</a> which dedicated wholly to discuss sample size, the formula to determining the sample size for measuring proportion difference between two groups is"
   ]
  },
  {
   "cell_type": "markdown",
   "metadata": {},
   "source": [
    "$$n_1=n_2=\\frac{(z_{\\alpha/2}+z_\\beta)^2 (p_1(1-p_1)+p_2(1-p_2))}{\\epsilon^2}$$"
   ]
  },
  {
   "cell_type": "markdown",
   "metadata": {},
   "source": [
    "where \n",
    "<li>$z_{\\alpha/2}$ is normal quantile value at $\\alpha/2$ significance level (usually $\\alpha=5\\%$),\n",
    "<li>$z_{\\beta}$ is normal quantile value at $\\beta$ (usually $\\beta=20\\%)$ that gives 80% power,\n",
    "<li>$p_1$ is baseline conversion rate (i.e. 0.190201 in this data),\n",
    "<li>$\\epsilon$ is the minimum detectable effect or effect size which predetermined based on business needs,\n",
    "<li>$p_2 = p_1 + \\epsilon$ is the aimed uplift on the treatment group,</li>\n",
    "\n",
    "Note that we already have $p_2$ in our data, i.e. 0.182. Before conducting an A/B test, we definitely have no idea what the quantity of $p_2$ is and of course we are not aiming for decrease in retention rate.\n",
    "\n",
    "Let's try to make a simulation with varying minimum detectable effect; 0.01, 0.02, 0.04, 0.08, 0.16 respectively."
   ]
  },
  {
   "cell_type": "code",
   "execution_count": 92,
   "metadata": {},
   "outputs": [
    {
     "name": "stdout",
     "output_type": "stream",
     "text": [
      "[24656.90692, 6279.91869, 1624.88232, 430.72858, 116.99281]\n"
     ]
    }
   ],
   "source": [
    "mdes = [.01, .02, .04, .08, .16]\n",
    "ssize = []\n",
    "power = 0.8\n",
    "alpha = 0.05\n",
    "p1 = df.groupby(['version']).retention_7.mean()[0]\n",
    "\n",
    "for mde in mdes:\n",
    "    p2 = p1 + mde\n",
    "    n = (stats.norm.ppf(1-alpha/2) + stats.norm.ppf(power))**2 * (p1 * (1-p1) + p2 * (1-p2)) / mde**2\n",
    "    ssize.append(round(n, 5))\n",
    "\n",
    "print(ssize)"
   ]
  },
  {
   "cell_type": "markdown",
   "metadata": {},
   "source": [
    "As you may notice as the minimum detectable effect getting smaller, more sample size is needed in order the test to be able to detect the possible effects. Since the sample in our data is around 40 thousand for each group, it seems the statistical power is already high enough to avoid Type-II error given the simulation above."
   ]
  },
  {
   "cell_type": "markdown",
   "metadata": {},
   "source": [
    "## 2. Comparing Two Proportions (Hypothesis test, p-value, and confidence interval)\n",
    "### a. Hypothesis test\n",
    "This is a classical-way (frequentist) of comparing proportions between two groups. Firstly, we test the null hypothesis where\n",
    "\n",
    "$$H_0: p_1 - p_2 = 0$$\n",
    "\n",
    "with test statistic that asymptotically follows standard normal distribution as\n",
    "\n",
    "$$\\begin{aligned}\n",
    "Z &= \\frac{(\\hat{p}_1-\\hat{p}_2) - (p_1-p_2)}{\\sqrt{\\hat{p}(1-\\hat{p})\\left(\\frac{1}{n_1}+\\frac{1}{n_2}\\right)}} \\\\\n",
    "\\end{aligned}$$\n",
    "\n",
    "where the pooled proportion is\n",
    "\n",
    "$$\\hat{p} = \\frac{Y_1+Y_2}{n_1+n_2}$$\n"
   ]
  },
  {
   "cell_type": "markdown",
   "metadata": {},
   "source": [
    "The test statistic $Z$ consists of numerator $\\hat{p}_1-\\hat{p}_2$ (`gate_30` group $-$ `gate_40` group) which is our point estimate and $p_1-p_2$ as the value we want to compare with (i.e. zero). The denominator is basically the estimated standard deviation of retention difference, namely $\\text{SD}(p_1-p_2)$ or $\\sqrt{\\text{Var}(p_1-p_2)}$. I would recommend to look onto <a href=\"https://newonlinecourses.science.psu.edu/stat414/node/268/\">this explanation</a> for a brief derivation of the formula. Computing the values, "
   ]
  },
  {
   "cell_type": "code",
   "execution_count": 5,
   "metadata": {},
   "outputs": [
    {
     "name": "stdout",
     "output_type": "stream",
     "text": [
      "3.164\n"
     ]
    }
   ],
   "source": [
    "df_grp = df.groupby(['version'])\n",
    "p1_hat = df_grp.retention_7.mean()[0]\n",
    "p2_hat = df_grp.retention_7.mean()[1]\n",
    "n1 = df_grp.retention_7.size()[0]\n",
    "n2 = df_grp.retention_7.size()[1]\n",
    "Y1 = df_grp.retention_7.sum()[0]\n",
    "Y2 = df_grp.retention_7.sum()[1]\n",
    "\n",
    "phat = (Y1+Y2)/(n1+n2)\n",
    "Z = (p1_hat - p2_hat) / np.sqrt(phat * (1-phat) * (1/n1 + 1/n2))\n",
    "print(round(Z, 3))"
   ]
  },
  {
   "cell_type": "markdown",
   "metadata": {},
   "source": [
    "we obtain $Z=3.164$ and as you may remember this value is within the rejection region at 5% significance level (where the threshold is $\\pm{1.96}$). Therefore __we reject the null and conclude that players on group `gate_30` has significantly different (i.e. higher) retention rate than players on group `gate_40`__. Sadly, moving the gate to level 40 turns out to lower the retention rate of the players."
   ]
  },
  {
   "cell_type": "markdown",
   "metadata": {},
   "source": [
    "### b. P-value approach\n",
    "Either way, we could find the p-value of this result. Finding the probability of the tails on both side with $Z=\\pm{3.164}$, we obtain"
   ]
  },
  {
   "cell_type": "code",
   "execution_count": 6,
   "metadata": {},
   "outputs": [
    {
     "data": {
      "text/plain": [
       "0.0015542499756142636"
      ]
     },
     "execution_count": 6,
     "metadata": {},
     "output_type": "execute_result"
    }
   ],
   "source": [
    "2 * (1 - stats.norm.cdf(Z))"
   ]
  },
  {
   "cell_type": "markdown",
   "metadata": {},
   "source": [
    "which is reasonably small (p-value $< 0.05$) and the conclusion still holds the same. \n",
    "\n",
    "If you are lazy enough and not knowing the formula, we can however utilize one of the scipy stats methods which returns the exact same quantile and p-value. But first we need to input the values in either 0/1 form."
   ]
  },
  {
   "cell_type": "code",
   "execution_count": 101,
   "metadata": {},
   "outputs": [
    {
     "data": {
      "text/plain": [
       "Ttest_indResult(statistic=3.1644994996802778, pvalue=0.0015540151201088365)"
      ]
     },
     "execution_count": 101,
     "metadata": {},
     "output_type": "execute_result"
    }
   ],
   "source": [
    "grp_A = df[df.version=='gate_30'].retention_7.replace({True: 1, False: 0})\n",
    "grp_B = df[df.version=='gate_40'].retention_7.replace({True: 1, False: 0})\n",
    "stats.ttest_ind(grp_A, grp_B)"
   ]
  },
  {
   "cell_type": "markdown",
   "metadata": {},
   "source": [
    "### c. Confidence interval\n",
    "Lastly, we could alternatively find the confidence interval of the retention difference. If the confidence interval happens to contain zero, then it is likely that the difference is not statistically significant and we cannot safely conclude the retention is different between the groups. Remember that the confidence interval formula goes like this"
   ]
  },
  {
   "cell_type": "markdown",
   "metadata": {},
   "source": [
    "$$\\text{point estimate} \\ \\pm \\ \\text{critical value} \\ \\times \\sqrt{\\text{Var(point estimate)}}$$"
   ]
  },
  {
   "cell_type": "markdown",
   "metadata": {},
   "source": [
    "and for our case it is"
   ]
  },
  {
   "cell_type": "markdown",
   "metadata": {},
   "source": [
    "$$(\\hat{p}_1-\\hat{p}_2) \\ \\pm z_{\\alpha/2} \\ \\times \\sqrt{\\frac{\\hat{p}_1(1-\\hat{p}_1)}{n_1} + \\frac{\\hat{p}_2(1-\\hat{p}_2)}{n_2}}$$"
   ]
  },
  {
   "cell_type": "markdown",
   "metadata": {},
   "source": [
    "For this case, we have a slightly difference variance of the point estimate than we had earlier. For the reason why, refer to <a href=\"https://newonlinecourses.science.psu.edu/stat414/node/209/\"> this link</a> for the explanation. Then we obtain the confidence interval within"
   ]
  },
  {
   "cell_type": "code",
   "execution_count": 7,
   "metadata": {},
   "outputs": [
    {
     "name": "stdout",
     "output_type": "stream",
     "text": [
      "(0.00312, 0.01328)\n"
     ]
    }
   ],
   "source": [
    "marg_err = stats.norm.ppf(0.975) * np.sqrt((p1_hat * (1-p1_hat) / n1) + (p2_hat * (1- p2_hat) / n2))\n",
    "low_bnd = (p1_hat - p2_hat) - marg_err\n",
    "upp_bnd = (p1_hat - p2_hat) + marg_err\n",
    "conf_int = (round(low_bnd, 5), round(upp_bnd, 5))\n",
    "print(conf_int)"
   ]
  },
  {
   "cell_type": "markdown",
   "metadata": {},
   "source": [
    "The confidence interval suggests the retention difference is indeed statistically significant."
   ]
  },
  {
   "cell_type": "markdown",
   "metadata": {},
   "source": [
    "## 2. Bayesian analysis\n",
    "Another useful method to analyse the A/B test result is using Bayesian framework. It offers a more interpretable question to business stakeholders such as __\"what is the probability putting the gate at level 40 gives more retention than putting the gates at level 30?\"__ instead of frequentist approach that states mere statistical significance (also there has been a long-standing debate surrounding the use of p-value).\n",
    "\n",
    "In Bayesian inference, typically we have the following formula:\n",
    "\n",
    "$$p(\\theta | y) \\propto p(\\theta) \\ \\times \\ p(y | \\theta)$$\n",
    "\n",
    "where it means our belief regarding a parameter (i.e. $\\theta$ is retention rate in this case) given the observed data is proportional with our __prior__ belief about the parameter multiplied by the __likelihood__ of the observation that we believe stems from the given parameter. The LHS part of the equation often called as __posterior__. We need to determine the statistical distribution of these three components.\n",
    "\n",
    "In the end, we then sample the posterior distribution by doing Monte Carlo simulation and analyse the results from the generated samples.\n",
    "\n",
    "### a. Likelihood function\n",
    "Now, you might notice that the retention rate on each group is a series of Bernoulli trials (come back 7 days after installation or not) i.e. __distributed binomially__ (actually this plays part as well in the derivation on the frequentist part earlier). These series of Bernoulli trials is our __likelihood distributions__ or we denote that as \n",
    "\n",
    "$$y|\\theta \\sim \\text{Binomial}(n, \\theta)$$ \n",
    "\n",
    "with $n$ trials and $y$ successes (showing up) with probability $\\theta$.\n",
    "\n",
    "### b. Prior distribution\n",
    "What about the __prior distribution__, the prior belief about the retention rate? One thing for sure is that the retention rate is a value within [0, 1] and a __beta distribution__ seems to have this range of value so we decide to choose this distribution as our prior. \n",
    "\n",
    "However, we can actually use any kind of prior besides beta distribution that has support between 0 and 1 (such as gamma distribution), but there is a nice thing about beta distribution with binomial distribution. They have a __conjugacy__ property that allows for mathematical convenience; i.e. the posterior distribution will be also of the form of prior distribution but with updated parameters. \n",
    "\n",
    "### c. Posterior distribution\n",
    "Now, consider $\\theta \\sim \\text{Beta}(a, b)$, then the preceding formula becomes\n",
    "\n",
    "$$\\begin{aligned}\n",
    "p(\\theta | y) &\\propto \\theta^{a-1}(1-\\theta)^{b-1} \\ \\times \\theta^{y}(1-\\theta)^{n-y} \\\\\n",
    "&\\propto \\theta^{a+y-1}(1-\\theta)^{b+n-y-1} \\\\\n",
    "\\end{aligned}$$\n",
    "\n",
    "Then our posterior distribution is also a beta distribution with the following parameter\n",
    "\n",
    "$$\\theta | y \\sim \\text{Beta}(a+y, b+n-y)$$\n",
    "\n",
    "here I omitted $\\frac{\\Gamma(a+b)}{\\Gamma(a)\\Gamma(b)}$ and ${n \\choose y}$ term on both the beta and binomial density above since they give no contribution to the parameter $\\theta$. The posterior distribution above can also be rephrased as\n",
    "\n",
    "$$\\theta | y \\sim \\text{Beta}(a+\\text{successes}, b+\\text{failures})$$\n",
    "\n",
    "The next __important__ step is we compute the posterior distribution of each control and treatment group and simulate the samples out of it using Monte Carlo procedures as many as possible. We then compare the Monte Carlo samples between the two groups.\n",
    "\n",
    "For now, we set the prior as $\\theta \\sim \\text{Beta}(1, 1)$ which is also called __non-informative prior__, since it gives basically no information/emphasize towards particular value of the parameter that we want to measure. We will discuss how to choose prior on next post.\n",
    "\n",
    "The probability having more retention by moving the gate to level 40 is then"
   ]
  },
  {
   "cell_type": "code",
   "execution_count": 8,
   "metadata": {},
   "outputs": [
    {
     "name": "stdout",
     "output_type": "stream",
     "text": [
      "0.083%\n"
     ]
    }
   ],
   "source": [
    "a, b = 1, 1\n",
    "nsize = 10**6\n",
    "posterior_gate_30 = np.random.beta(a + Y1, b + n1 - Y1, size=nsize)\n",
    "posterior_gate_40 = np.random.beta(a + Y2, b + n2 - Y2, size=nsize)\n",
    "\n",
    "prob = np.mean(posterior_gate_40 > posterior_gate_30)\n",
    "print(\"{:.3f}%\".format(prob*100))"
   ]
  },
  {
   "cell_type": "markdown",
   "metadata": {},
   "source": [
    "so it is unwise to move the gate to level 40 as the probability is very small."
   ]
  },
  {
   "cell_type": "markdown",
   "metadata": {},
   "source": [
    "### d. Intro to PyMC3: probabilistic programming library\n",
    "PyMC3 is a versatile library to perform Bayesian inference. It has many advanced sampling methods, even the default sampler is the <a href=\"http://elevanth.org/blog/2017/11/28/build-a-better-markov-chain/\">No U-Turn Sampling (NUTS)</a> algorithm, one of the recent variant of Monte Carlo method that handles intractable posterior distribution; posterior that cannot be solved analytically because of not using conjugate prior in the model specification.\n",
    "\n",
    "It might be an overkill to use PyMC3 in this problem since the posterior already has a nice beta distribution form, but this part serves as a useful warm-up before we further discuss Bayesian inference in the next blog post."
   ]
  },
  {
   "cell_type": "code",
   "execution_count": 9,
   "metadata": {
    "scrolled": true
   },
   "outputs": [
    {
     "name": "stderr",
     "output_type": "stream",
     "text": [
      "/Users/dims/anaconda3/lib/python3.6/site-packages/h5py/__init__.py:34: FutureWarning: Conversion of the second argument of issubdtype from `float` to `np.floating` is deprecated. In future, it will be treated as `np.float64 == np.dtype(float).type`.\n",
      "  from ._conv import register_converters as _register_converters\n",
      "Auto-assigning NUTS sampler...\n",
      "Initializing NUTS using jitter+adapt_diag...\n",
      "Multiprocess sampling (2 chains in 2 jobs)\n",
      "NUTS: [theta40, theta30]\n",
      "Sampling 2 chains: 100%|██████████| 11000/11000 [00:55<00:00, 198.22draws/s]\n"
     ]
    }
   ],
   "source": [
    "import pymc3 as pm\n",
    "\n",
    "gate30 = np.array(df[df.version=='gate_30']['retention_7'].replace({False: 0, True: 1}))\n",
    "gate40 = np.array(df[df.version=='gate_40']['retention_7'].replace({False: 0, True: 1}))\n",
    "\n",
    "with pm.Model() as model:\n",
    "    # Priors\n",
    "    gate30_prior = pm.Beta('theta30', alpha=a, beta=b)\n",
    "    gate40_prior = pm.Beta('theta40', alpha=a, beta=b)\n",
    "    \n",
    "    # Likelihood\n",
    "    gate30_ylike = pm.Bernoulli('y30', p=gate30_prior, observed=gate30)\n",
    "    gate40_ylike = pm.Bernoulli('y40', p=gate40_prior, observed=gate40)\n",
    "    \n",
    "    # Difference\n",
    "    retention_diff = pm.Deterministic('diff', gate40_prior-gate30_prior)\n",
    "    \n",
    "    # The inference button\n",
    "    trace = pm.sample(5000)"
   ]
  },
  {
   "cell_type": "markdown",
   "metadata": {},
   "source": [
    "The probability of getting higher retention rate by putting the gate at level 40 is"
   ]
  },
  {
   "cell_type": "code",
   "execution_count": 10,
   "metadata": {},
   "outputs": [
    {
     "data": {
      "text/plain": [
       "0.001"
      ]
     },
     "execution_count": 10,
     "metadata": {},
     "output_type": "execute_result"
    }
   ],
   "source": [
    "np.mean(trace['theta40'] > trace['theta30'])"
   ]
  },
  {
   "cell_type": "markdown",
   "metadata": {},
   "source": [
    "One nice thing with PyMC3 it can give us the following sample distribution."
   ]
  },
  {
   "cell_type": "code",
   "execution_count": 11,
   "metadata": {},
   "outputs": [
    {
     "data": {
      "text/plain": [
       "array([<matplotlib.axes._subplots.AxesSubplot object at 0x123b0ddd8>],\n",
       "      dtype=object)"
      ]
     },
     "execution_count": 11,
     "metadata": {},
     "output_type": "execute_result"
    },
    {
     "data": {
      "image/png": "[encoded data removed]",
      "text/plain": [
       "<Figure size 432x288 with 1 Axes>"
      ]
     },
     "metadata": {
      "needs_background": "light"
     },
     "output_type": "display_data"
    }
   ],
   "source": [
    "pm.plot_posterior(trace, var_names=['diff'], ref_val=0, textsize=12, figsize=(6,4))"
   ]
  },
  {
   "cell_type": "markdown",
   "metadata": {},
   "source": [
    "The figure tells us that the probability of moving the gate to level 40 gives more retention is 0%, which also means 100% of the time putting the gate as it was is more effective than at the gate level 40. \n",
    "\n",
    "The HPD stands for __highest posterior density__ that in this case shows us by moving the gate at level 40, 94% of the time the retention rate difference will be between -1.3% and -0.34%, which also actually worse no matter we repeat the experiment!"
   ]
  },
  {
   "cell_type": "markdown",
   "metadata": {},
   "source": [
    "## 3. Generalized Linear Model\n",
    "I was thinking that given the data we have below"
   ]
  },
  {
   "cell_type": "code",
   "execution_count": 12,
   "metadata": {},
   "outputs": [
    {
     "data": {
      "text/html": [
       "<div>\n",
       "<style scoped>\n",
       "    .dataframe tbody tr th:only-of-type {\n",
       "        vertical-align: middle;\n",
       "    }\n",
       "\n",
       "    .dataframe tbody tr th {\n",
       "        vertical-align: top;\n",
       "    }\n",
       "\n",
       "    .dataframe thead th {\n",
       "        text-align: right;\n",
       "    }\n",
       "</style>\n",
       "<table border=\"1\" class=\"dataframe\">\n",
       "  <thead>\n",
       "    <tr style=\"text-align: right;\">\n",
       "      <th></th>\n",
       "      <th>userid</th>\n",
       "      <th>version</th>\n",
       "      <th>sum_gamerounds</th>\n",
       "      <th>retention_1</th>\n",
       "      <th>retention_7</th>\n",
       "    </tr>\n",
       "  </thead>\n",
       "  <tbody>\n",
       "    <tr>\n",
       "      <th>26716</th>\n",
       "      <td>2976967</td>\n",
       "      <td>gate_40</td>\n",
       "      <td>21</td>\n",
       "      <td>True</td>\n",
       "      <td>False</td>\n",
       "    </tr>\n",
       "    <tr>\n",
       "      <th>17502</th>\n",
       "      <td>1949342</td>\n",
       "      <td>gate_30</td>\n",
       "      <td>5</td>\n",
       "      <td>False</td>\n",
       "      <td>False</td>\n",
       "    </tr>\n",
       "    <tr>\n",
       "      <th>8023</th>\n",
       "      <td>885695</td>\n",
       "      <td>gate_40</td>\n",
       "      <td>16</td>\n",
       "      <td>False</td>\n",
       "      <td>False</td>\n",
       "    </tr>\n",
       "    <tr>\n",
       "      <th>54036</th>\n",
       "      <td>5998556</td>\n",
       "      <td>gate_40</td>\n",
       "      <td>73</td>\n",
       "      <td>True</td>\n",
       "      <td>True</td>\n",
       "    </tr>\n",
       "    <tr>\n",
       "      <th>56832</th>\n",
       "      <td>6298836</td>\n",
       "      <td>gate_30</td>\n",
       "      <td>3</td>\n",
       "      <td>False</td>\n",
       "      <td>False</td>\n",
       "    </tr>\n",
       "  </tbody>\n",
       "</table>\n",
       "</div>"
      ],
      "text/plain": [
       "        userid  version  sum_gamerounds  retention_1  retention_7\n",
       "26716  2976967  gate_40              21         True        False\n",
       "17502  1949342  gate_30               5        False        False\n",
       "8023    885695  gate_40              16        False        False\n",
       "54036  5998556  gate_40              73         True         True\n",
       "56832  6298836  gate_30               3        False        False"
      ]
     },
     "execution_count": 12,
     "metadata": {},
     "output_type": "execute_result"
    }
   ],
   "source": [
    "df.sample(5)"
   ]
  },
  {
   "cell_type": "markdown",
   "metadata": {},
   "source": [
    "we can actually fit a linear model by treating `retention_7` as independent variable and the rest as dependent variables (except `userid`). Given this situation, we can fit a probit or logit model. It is actually quite common, especially in econometrics, to employ this method to compare changes between groups. Later, we will see whether the fitted coefficient of `version` is statistically significant and has positive value.\n",
    "\n",
    "Firstly, we one-hot encode these categorical covariates."
   ]
  },
  {
   "cell_type": "code",
   "execution_count": 14,
   "metadata": {},
   "outputs": [],
   "source": [
    "from sklearn.preprocessing import LabelEncoder\n",
    "import statsmodels.api as sm\n",
    "\n",
    "le = LabelEncoder()\n",
    "categorical = ['version', 'retention_1', 'retention_7']\n",
    "df_prepro = df.copy()\n",
    "\n",
    "for col in categorical:\n",
    "    df_prepro[col] = le.fit_transform(df_prepro[col])\n",
    "df_prepro.sample(5)\n",
    "\n",
    "y = df_prepro['retention_7']\n",
    "X = df_prepro.drop(['retention_7','userid'], axis=1)\n",
    "X = sm.add_constant(X)"
   ]
  },
  {
   "cell_type": "markdown",
   "metadata": {},
   "source": [
    "### a. Probit model\n",
    "Probit model is one of the generalised linear model where the response variable is binary and the estimated coefficient is found through maximum-likelihood estimation procedure. It has __probit link function__ that \"connects\" the linear combination of dependent variables which expressed as\n",
    "\n",
    "$$p(y=1|X) = \\Phi\\left(\\beta^T X\\right)$$\n",
    "\n",
    "where notation $\\Phi$ denotes the standard normal distribution. Following we utilize the statsmodels library to fit the model."
   ]
  },
  {
   "cell_type": "code",
   "execution_count": 15,
   "metadata": {},
   "outputs": [
    {
     "name": "stdout",
     "output_type": "stream",
     "text": [
      "Optimization terminated successfully.\n",
      "         Current function value: 0.329974\n",
      "         Iterations 10\n",
      "                          Probit Regression Results                           \n",
      "==============================================================================\n",
      "Dep. Variable:            retention_7   No. Observations:                90189\n",
      "Model:                         Probit   Df Residuals:                    90185\n",
      "Method:                           MLE   Df Model:                            3\n",
      "Date:                Mon, 30 Dec 2019   Pseudo R-squ.:                  0.3132\n",
      "Time:                        17:22:35   Log-Likelihood:                -29760.\n",
      "converged:                       True   LL-Null:                       -43333.\n",
      "                                        LLR p-value:                     0.000\n",
      "==================================================================================\n",
      "                     coef    std err          z      P>|z|      [0.025      0.975]\n",
      "----------------------------------------------------------------------------------\n",
      "const             -1.6915      0.011   -155.157      0.000      -1.713      -1.670\n",
      "version           -0.0376      0.011     -3.280      0.001      -0.060      -0.015\n",
      "sum_gamerounds     0.0096   8.58e-05    111.432      0.000       0.009       0.010\n",
      "retention_1        0.4040      0.013     32.029      0.000       0.379       0.429\n",
      "==================================================================================\n"
     ]
    }
   ],
   "source": [
    "probit_mod = sm.Probit(y, X)\n",
    "probit_res = probit_mod.fit()\n",
    "\n",
    "print(probit_res.summary())"
   ]
  },
  {
   "cell_type": "markdown",
   "metadata": {},
   "source": [
    "The fitted coefficient value for `version` is $\\beta_1=-0.0376$. This negative sign indicates that a change of gate placement to level 40, will decrease the probability a player to show up after 7 days installing the game (since we have mapped 0 as `gate_30` and 1 as `gate_40`).\n",
    "\n",
    "Also, Wald's hypothesis test can be performed to test whether the fitted coefficient on `version` is significantly different from zero. Wald's principle states that the following statistic asymptotically goes to standard normal distribution\n",
    "\n",
    "$$\\frac{\\hat{\\beta}-\\beta_0}{\\hat{\\text{SE}}(\\hat{\\beta})} \\sim \\text{N}(0,1)$$"
   ]
  },
  {
   "cell_type": "markdown",
   "metadata": {},
   "source": [
    "we test the coefficient and the p-value it has is"
   ]
  },
  {
   "cell_type": "code",
   "execution_count": 16,
   "metadata": {},
   "outputs": [
    {
     "data": {
      "text/plain": [
       "0.0010383866526273908"
      ]
     },
     "execution_count": 16,
     "metadata": {},
     "output_type": "execute_result"
    }
   ],
   "source": [
    "2 * stats.norm.cdf(probit_res.params[1], loc=0, scale=probit_res.bse[1])"
   ]
  },
  {
   "cell_type": "markdown",
   "metadata": {},
   "source": [
    "Altogether, we can safely assume the effect of moving the gate to level 40 will decrease the retention rate and it is statistically significant since the Wald's statistic is considerably small (less than 5% significant level)."
   ]
  },
  {
   "cell_type": "markdown",
   "metadata": {},
   "source": [
    "### b. Logit model\n",
    "Similar to probit model, logit model or logistic regression model gives output that only takes two values. The linear combination of covariates is \"connected\" through a __logit link function__ as follows\n",
    "\n",
    "$$\\text{log}\\frac{p(y=1|X)}{1-p(y=1|X)} = \\beta^TX$$"
   ]
  },
  {
   "cell_type": "code",
   "execution_count": 17,
   "metadata": {},
   "outputs": [
    {
     "name": "stdout",
     "output_type": "stream",
     "text": [
      "Optimization terminated successfully.\n",
      "         Current function value: 0.327800\n",
      "         Iterations 8\n",
      "                           Logit Regression Results                           \n",
      "==============================================================================\n",
      "Dep. Variable:            retention_7   No. Observations:                90189\n",
      "Model:                          Logit   Df Residuals:                    90185\n",
      "Method:                           MLE   Df Model:                            3\n",
      "Date:                Mon, 30 Dec 2019   Pseudo R-squ.:                  0.3177\n",
      "Time:                        17:23:50   Log-Likelihood:                -29564.\n",
      "converged:                       True   LL-Null:                       -43333.\n",
      "                                        LLR p-value:                     0.000\n",
      "==================================================================================\n",
      "                     coef    std err          z      P>|z|      [0.025      0.975]\n",
      "----------------------------------------------------------------------------------\n",
      "const             -2.9677      0.022   -136.456      0.000      -3.010      -2.925\n",
      "version           -0.0792      0.021     -3.693      0.000      -0.121      -0.037\n",
      "sum_gamerounds     0.0184      0.000     95.529      0.000       0.018       0.019\n",
      "retention_1        0.6839      0.025     27.868      0.000       0.636       0.732\n",
      "==================================================================================\n"
     ]
    }
   ],
   "source": [
    "logit_mod = sm.Logit(y, X)\n",
    "logit_res = logit_mod.fit()\n",
    "print(logit_res.summary())"
   ]
  },
  {
   "cell_type": "markdown",
   "metadata": {},
   "source": [
    "The fitted coefficient of `version` is again has negative sign and significant. The conclusion holds the same, although this model estimates more decrease in retention rate $(\\beta_1 = -0.0792)$ compared to the probit model earlier."
   ]
  },
  {
   "cell_type": "markdown",
   "metadata": {},
   "source": [
    "### c. Additional analysis\n",
    "Interestingly, both `sum_gamerounds` and `retention_1` are also significant and has positive sign. This can be thought as \n",
    "<ul>\n",
    "<li> The more people spend their time playing the game the more likely they are going to login the game again after 7 days (although this variable measures the playing time for the first 14-day),</li>\n",
    "<li> Having a player comes back the day after installing the game also increases the probability to show up a week later.\n",
    "</ul>"
   ]
  }
 ],
 "metadata": {
  "kernelspec": {
   "display_name": "Python 3",
   "language": "python",
   "name": "python3"
  },
  "language_info": {
   "codemirror_mode": {
    "name": "ipython",
    "version": 3
   },
   "file_extension": ".py",
   "mimetype": "text/x-python",
   "name": "python",
   "nbconvert_exporter": "python",
   "pygments_lexer": "ipython3",
   "version": "3.6.7"
  }
 },
 "nbformat": 4,
 "nbformat_minor": 2
}
